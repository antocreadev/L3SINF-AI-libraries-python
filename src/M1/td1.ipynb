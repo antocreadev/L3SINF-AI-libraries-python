{
 "cells": [
  {
   "cell_type": "code",
   "execution_count": 32,
   "metadata": {},
   "outputs": [],
   "source": [
    "import pandas as pd\n",
    "import numpy as np\n",
    "import seaborn as sns"
   ]
  },
  {
   "cell_type": "markdown",
   "metadata": {},
   "source": [
    "# 1. Analyse de la target"
   ]
  },
  {
   "cell_type": "code",
   "execution_count": null,
   "metadata": {},
   "outputs": [],
   "source": [
    "data = pd.read_csv(\"../../data/airbnbprediction.csv\")\n",
    "data"
   ]
  },
  {
   "cell_type": "code",
   "execution_count": null,
   "metadata": {},
   "outputs": [],
   "source": [
    "\"\"\" Utiliser la bibliothèque pandas pour récupérer les données, vous\n",
    "supprimerez ensuite les 15 features suivantes :\n",
    "'id','description', 'first_review', 'host_has_profile_pic', 'host_identity_verified',\n",
    "'host_response_rate', 'host_since', 'last_review', 'latitude', 'longitude', 'name','number_of_reviews',\n",
    "'review_scores_rating', 'thumbnail_url', 'zipcode'\n",
    "\"\"\"\n",
    "\n",
    "data = data.drop(['id','description', 'first_review', 'host_has_profile_pic', 'host_identity_verified', 'host_response_rate', 'host_since', 'last_review', 'latitude', 'longitude', 'name','number_of_reviews', 'review_scores_rating', 'thumbnail_url', 'zipcode'], axis=1)\n",
    "data"
   ]
  },
  {
   "cell_type": "code",
   "execution_count": null,
   "metadata": {},
   "outputs": [],
   "source": [
    "#Transformer la colonne log_price en une colonne price\n",
    "data['price'] = np.exp(data['log_price'])\n",
    "data"
   ]
  },
  {
   "cell_type": "code",
   "execution_count": null,
   "metadata": {},
   "outputs": [],
   "source": [
    "# Identifiez les locations pour lesquelles il n’y a pas d’information sur les commodités (’{}’). Supprimez les features correspondantes\n",
    "data = data.drop(data[data['amenities'] == '{}'].index)\n",
    "data"
   ]
  },
  {
   "cell_type": "code",
   "execution_count": null,
   "metadata": {},
   "outputs": [],
   "source": [
    "# Combien y a-t-il de doublons, supprimez ces doublons.\n",
    "print(\"Nombre de doublons : \", data.duplicated().sum())\n",
    "data = data.drop_duplicates()\n",
    "data"
   ]
  },
  {
   "cell_type": "code",
   "execution_count": null,
   "metadata": {},
   "outputs": [],
   "source": [
    "# Conserver maintenant dans la base de données seulement les locations comprises entre 20 et 1000 dollars, combien reste-t-il de samples.\n",
    "data = data.drop(data[data['price'] < 20].index)\n",
    "data = data.drop(data[data['price'] > 1000].index)\n",
    "data"
   ]
  },
  {
   "cell_type": "code",
   "execution_count": null,
   "metadata": {},
   "outputs": [],
   "source": [
    "# Afficher la répartition des prix avec un découpage en 100 bacs.\n",
    "sns.histplot(data['price'], bins=100)\n"
   ]
  },
  {
   "cell_type": "code",
   "execution_count": null,
   "metadata": {},
   "outputs": [],
   "source": [
    "\"\"\"\n",
    "Identifier les trois types de propriétés les plus importantes en nombre,\n",
    "afficher via histplot ces trois types de propriétés. Dans les quatre\n",
    "prochaines questions vous vous limiterez aux samples ayant un prix\n",
    "inférieur à 500 dollars. Que peut-on voir.\n",
    "\"\"\"\n",
    "trois_importantes= (data['property_type']).value_counts().head(3)\n",
    "data = data.drop(data[data['price'] > 500].index)\n",
    "sns.barplot(trois_importantes)\n"
   ]
  },
  {
   "cell_type": "code",
   "execution_count": null,
   "metadata": {},
   "outputs": [],
   "source": [
    "#Calculer maintenant la valeur moyenne de ces propriétés, que constate-t-on. Comment peut-on expliquer ces différences apparentes.\n",
    "data.groupby('property_type')['price'].mean()"
   ]
  },
  {
   "cell_type": "code",
   "execution_count": null,
   "metadata": {},
   "outputs": [],
   "source": [
    "\"\"\"Effectué maintenant un affichage avec trois hisplot sur des dataframes ne\n",
    "contenant qu’un seul type de propriété. Vous y positionnerez l’option\n",
    "stat=‘percent’. Que peut-on constater, est-ce que ce type d’affichage\n",
    "permet de mieux expliquer les résultats précédents.\n",
    "\"\"\"\n",
    "data1 = data[data['property_type'] == 'Apartment']\n",
    "data2 = data[data['property_type'] == 'House']\n",
    "data3 = data[data['property_type'] == 'Condominium']\n",
    "sns.histplot(data1['price'], stat='percent')\n",
    "sns.histplot(data2['price'], stat='percent')\n",
    "sns.histplot(data3['price'], stat='percent')"
   ]
  },
  {
   "cell_type": "code",
   "execution_count": null,
   "metadata": {},
   "outputs": [],
   "source": [
    "# Que peut-on conclure si l’on donne trop d’importance sur la seule valeur des moyennes.\n",
    "data.groupby('property_type')['price'].mean()"
   ]
  },
  {
   "cell_type": "markdown",
   "metadata": {},
   "source": [
    "2. Traitement de instant_bookable"
   ]
  },
  {
   "cell_type": "code",
   "execution_count": null,
   "metadata": {},
   "outputs": [],
   "source": [
    "# Créer une liste contenant le nom de toutes les features objets. Pour chacune de ces features affichez le nombre de valeurs différentes.\n",
    "data.select_dtypes(include=['object']).nunique()\n"
   ]
  },
  {
   "cell_type": "code",
   "execution_count": null,
   "metadata": {},
   "outputs": [],
   "source": [
    "#Combien y a-t-il de samples avec la valeur ‘t’ ou ‘f’ dans instant_bookable, quel est le prix moyen des locations de chacune de ces catégories.\n",
    "print(data['instant_bookable'].value_counts())\n",
    "print(data.groupby('instant_bookable')['price'].mean())\n",
    "# Y-a-t-il des données manquantes.\n",
    "print(data['instant_bookable'].isnull().sum())"
   ]
  },
  {
   "cell_type": "code",
   "execution_count": null,
   "metadata": {},
   "outputs": [],
   "source": [
    "\"\"\"\n",
    "Créer une dataFrame pour chacune des deux catégories grâce à la\n",
    "fonction groupby, vous ne traiterez que les locations de moins de 500\n",
    "dollars.\n",
    "Info : Cette fonction retourne un objet que vous pouvez parcourir comme une liste composée de\n",
    "tuple (valeur du groupe, dataframe). Vous pouvez également récupérer chacune des dataframes via la\n",
    "méthode get_group(valeur du groupe).\n",
    "\"\"\"\n",
    "data1 = data.groupby('instant_bookable').get_group('f')\n",
    "data2 = data.groupby('instant_bookable').get_group('t')\n",
    "data1"
   ]
  },
  {
   "cell_type": "code",
   "execution_count": null,
   "metadata": {},
   "outputs": [],
   "source": [
    "data2"
   ]
  },
  {
   "cell_type": "code",
   "execution_count": null,
   "metadata": {},
   "outputs": [],
   "source": [
    "\"\"\"\n",
    "Afficher la via un histogramme la répartition des prix de chacune de\n",
    "ces catégories. Que constatez-vous, est-il judicieux de conserver cette\n",
    "feature ?\n",
    "Info : Vous utiliserez un affichage normalisé grâce à l’option stat de histplot.\n",
    "\"\"\"\n",
    "sns.histplot(data1['price'], stat='percent')\n",
    "sns.histplot(data2['price'], stat='percent')"
   ]
  },
  {
   "cell_type": "markdown",
   "metadata": {},
   "source": [
    "# Traitement de room_type"
   ]
  },
  {
   "cell_type": "code",
   "execution_count": null,
   "metadata": {},
   "outputs": [],
   "source": [
    "\"\"\"\n",
    "Afficher le nombre et les différentes moyennes des différents types de\n",
    "chambre, vous n’afficherez que les locations à moins de 500 dollars.\n",
    "Que constatez-vous \n",
    "\"\"\"\n",
    "data = data.drop(data[data['price'] > 500].index)\n",
    "data.groupby('room_type')['price'].mean()"
   ]
  },
  {
   "cell_type": "code",
   "execution_count": null,
   "metadata": {},
   "outputs": [],
   "source": [
    "\"\"\"Au regard de ces premières informations est-il nécessaire de créer une\n",
    "feature pour chaque type de chambre, ou une seule colonne suffit\"\"\"\n",
    "data['room_type'].value_counts()"
   ]
  },
  {
   "cell_type": "code",
   "execution_count": null,
   "metadata": {},
   "outputs": [],
   "source": [
    "# Affichez la variation des prix des locations avec la fonction histplot.\n",
    "sns.histplot(data['price'], bins=100)"
   ]
  },
  {
   "cell_type": "code",
   "execution_count": null,
   "metadata": {},
   "outputs": [],
   "source": [
    "\"\"\"\n",
    "Si l’on souhaite conserver une seule colonne, peut-on les numéroter\n",
    "dans un ordre aléatoire.\n",
    "\"\"\"\n",
    "data['room_type'] = data['room_type'].astype('category')\n",
    "data['room_type'] = data['room_type'].cat.codes\n",
    "data['room_type']\n",
    "\"\"\"\n",
    "Sachant que la plupart des algorithmes d’apprentissage utilisent la\n",
    "norme euclidienne pour comparer les samples entre eux, quel serait la\n",
    "meilleure façon de représenter ces différents types.\n",
    "\"\"\"\n",
    "data['room_type'] = data['room_type'].astype('category')\n",
    "data['room_type'] = data['room_type'].cat.codes\n",
    "data['room_type'] = data['room_type'].astype('category')\n",
    "data['room_type']\n",
    "\n",
    "\n"
   ]
  },
  {
   "cell_type": "markdown",
   "metadata": {},
   "source": [
    "# Analyse des property_type"
   ]
  },
  {
   "cell_type": "code",
   "execution_count": null,
   "metadata": {},
   "outputs": [],
   "source": [
    "#Combien y a-t-il de type de propriétés différentes et quel est le prix moyen de ces locations. Vous afficherez le résultat par ordre croissant du nombre du nombre de chaque propriété. Info : La fonction aggregate() combinée aux agrégations groupby permet d’appliquer plusieurs opérations classiques aux dataframes ou à une partie des features\n",
    "data.groupby('property_type')['price'].mean().sort_values()\n",
    "# Pensez-vous qu’il soit nécessaire de conserver toutes ces catégories. ?\n",
    "# Non"
   ]
  },
  {
   "cell_type": "code",
   "execution_count": null,
   "metadata": {},
   "outputs": [],
   "source": [
    "# On souhaite regrouper tous les types de propriétés qui ont un prix moyen élevé > 200 dollars. Créer une liste correspondant à ces types de propriétés et transformez leur valeur en Timeshare\n",
    "data1 = data.groupby('property_type')['price'].mean()\n",
    "data1 = data1[data1 > 200]\n",
    "data1 = data1.index\n",
    "data.loc[data['property_type'].isin(data1), 'property_type'] = 'Timeshare'\n",
    "data"
   ]
  },
  {
   "cell_type": "code",
   "execution_count": null,
   "metadata": {},
   "outputs": [],
   "source": [
    "# Créer une liste contenant les types de propriétés avec moins de 20 valeurs, et supprimez-les\n",
    "data1 = data['property_type'].value_counts()\n",
    "data1 = data1[data1 < 20]\n",
    "data1 = data1.index\n",
    "data = data.drop(data[data['property_type'].isin(data1)].index)\n",
    "data"
   ]
  },
  {
   "cell_type": "markdown",
   "metadata": {},
   "source": [
    "# Analyse des bed_type"
   ]
  },
  {
   "cell_type": "code",
   "execution_count": null,
   "metadata": {},
   "outputs": [],
   "source": [
    "# Afficher le nombre de locations par types de lits ainsi que le prix moyen. Quelle analyse peut-on faire de ce premier résultat.\n",
    "data.groupby('bed_type')['price'].mean()\n"
   ]
  },
  {
   "cell_type": "code",
   "execution_count": null,
   "metadata": {},
   "outputs": [],
   "source": [
    "# Calculer le prix moyen en fonction de ces deux features. Info : Vous utiliserez la fonction groupby sur les deux features property_type et bed_type\n",
    "data.groupby(['property_type', 'bed_type'])['price'].mean()"
   ]
  },
  {
   "cell_type": "code",
   "execution_count": null,
   "metadata": {},
   "outputs": [],
   "source": [
    "# Effectuer le même travail sur le nombre de locations sur la combinaison des deux features\n",
    "data = data.groupby(['property_type', 'bed_type']).size().reset_index()\n",
    "data = data.pivot(index='property_type', columns='bed_type', values=0)\n",
    "data\n",
    "# Que constatez-vous concernant en particulier les types Other et loft, que peut-on en conclure. Voyez-vous une feature que semble avoir un impact fort sur les prix des locations.\n",
    "# Les types de lits ont un impact fort sur les prix des locations\n",
    "\n",
    "# Peut-on numériser ces données dans n’importe quel ordre ou faut-il conserver une certaine hiérarchie entre les différents types de lits.\n",
    "# Il faut conserver une certaine hiérarchie entre les différents types de lits.\n"
   ]
  },
  {
   "cell_type": "code",
   "execution_count": null,
   "metadata": {},
   "outputs": [],
   "source": [
    "\"\"\"Modifier le dataframe obtenue pour en faire une lecture plus simple.\"\"\"\n",
    "data = data.fillna(0)\n",
    "data"
   ]
  },
  {
   "cell_type": "code",
   "execution_count": null,
   "metadata": {},
   "outputs": [],
   "source": [
    "# Effectuer le même travail sur le nombre de locations sur la combinaison des deux features.\n",
    "data = data.groupby(['property_type', 'bed_type']).size().reset_index()\n",
    "data = data.pivot(index='property_type', columns='bed_type', values=0)\n",
    "data"
   ]
  },
  {
   "cell_type": "code",
   "execution_count": null,
   "metadata": {},
   "outputs": [],
   "source": [
    "# Que constatez-vous concernant en particulier les types Other et loft, que peut-on en conclure. Voyez-vous une feature que semble avoir un impact fort sur les prix des locations.\n",
    "data.groupby(['property_type', 'bed_type'])['price'].mean()"
   ]
  },
  {
   "cell_type": "code",
   "execution_count": null,
   "metadata": {},
   "outputs": [],
   "source": [
    "# Peut-on numériser ces données dans n’importe quel ordre ou faut-il conserver une certaine hiérarchie entre les différents types de lits.\n",
    "data['bed_type'] = data['bed_type'].astype('category')\n",
    "data['bed_type'] = data['bed_type'].cat.codes\n",
    "data['bed_type'] = data['bed_type'].astype('category')\n",
    "data['bed_type']\n"
   ]
  },
  {
   "cell_type": "markdown",
   "metadata": {},
   "source": [
    "# Traitement de accommodates"
   ]
  }
 ],
 "metadata": {
  "kernelspec": {
   "display_name": "venv",
   "language": "python",
   "name": "python3"
  },
  "language_info": {
   "codemirror_mode": {
    "name": "ipython",
    "version": 3
   },
   "file_extension": ".py",
   "mimetype": "text/x-python",
   "name": "python",
   "nbconvert_exporter": "python",
   "pygments_lexer": "ipython3",
   "version": "3.9.7"
  }
 },
 "nbformat": 4,
 "nbformat_minor": 2
}
