{
 "cells": [
  {
   "cell_type": "code",
   "execution_count": 1,
   "metadata": {},
   "outputs": [],
   "source": [
    "import pandas as pd\n",
    "import numpy as np\n",
    "import seaborn as sns"
   ]
  },
  {
   "cell_type": "code",
   "execution_count": 2,
   "metadata": {},
   "outputs": [
    {
     "data": {
      "text/html": [
       "<div>\n",
       "<style scoped>\n",
       "    .dataframe tbody tr th:only-of-type {\n",
       "        vertical-align: middle;\n",
       "    }\n",
       "\n",
       "    .dataframe tbody tr th {\n",
       "        vertical-align: top;\n",
       "    }\n",
       "\n",
       "    .dataframe thead th {\n",
       "        text-align: right;\n",
       "    }\n",
       "</style>\n",
       "<table border=\"1\" class=\"dataframe\">\n",
       "  <thead>\n",
       "    <tr style=\"text-align: right;\">\n",
       "      <th></th>\n",
       "      <th>id</th>\n",
       "      <th>log_price</th>\n",
       "      <th>property_type</th>\n",
       "      <th>room_type</th>\n",
       "      <th>amenities</th>\n",
       "      <th>accommodates</th>\n",
       "      <th>bathrooms</th>\n",
       "      <th>bed_type</th>\n",
       "      <th>cancellation_policy</th>\n",
       "      <th>cleaning_fee</th>\n",
       "      <th>...</th>\n",
       "      <th>latitude</th>\n",
       "      <th>longitude</th>\n",
       "      <th>name</th>\n",
       "      <th>neighbourhood</th>\n",
       "      <th>number_of_reviews</th>\n",
       "      <th>review_scores_rating</th>\n",
       "      <th>thumbnail_url</th>\n",
       "      <th>zipcode</th>\n",
       "      <th>bedrooms</th>\n",
       "      <th>beds</th>\n",
       "    </tr>\n",
       "  </thead>\n",
       "  <tbody>\n",
       "    <tr>\n",
       "      <th>0</th>\n",
       "      <td>6901257</td>\n",
       "      <td>5.010635</td>\n",
       "      <td>Apartment</td>\n",
       "      <td>Entire home/apt</td>\n",
       "      <td>{\"Wireless Internet\",\"Air conditioning\",Kitche...</td>\n",
       "      <td>3</td>\n",
       "      <td>1.0</td>\n",
       "      <td>Real Bed</td>\n",
       "      <td>strict</td>\n",
       "      <td>True</td>\n",
       "      <td>...</td>\n",
       "      <td>40.696524</td>\n",
       "      <td>-73.991617</td>\n",
       "      <td>Beautiful brownstone 1-bedroom</td>\n",
       "      <td>Brooklyn Heights</td>\n",
       "      <td>2</td>\n",
       "      <td>100.0</td>\n",
       "      <td>https://a0.muscache.com/im/pictures/6d7cbbf7-c...</td>\n",
       "      <td>11201</td>\n",
       "      <td>1.0</td>\n",
       "      <td>1.0</td>\n",
       "    </tr>\n",
       "    <tr>\n",
       "      <th>1</th>\n",
       "      <td>6304928</td>\n",
       "      <td>5.129899</td>\n",
       "      <td>Apartment</td>\n",
       "      <td>Entire home/apt</td>\n",
       "      <td>{\"Wireless Internet\",\"Air conditioning\",Kitche...</td>\n",
       "      <td>7</td>\n",
       "      <td>1.0</td>\n",
       "      <td>Real Bed</td>\n",
       "      <td>strict</td>\n",
       "      <td>True</td>\n",
       "      <td>...</td>\n",
       "      <td>40.766115</td>\n",
       "      <td>-73.989040</td>\n",
       "      <td>Superb 3BR Apt Located Near Times Square</td>\n",
       "      <td>Hell's Kitchen</td>\n",
       "      <td>6</td>\n",
       "      <td>93.0</td>\n",
       "      <td>https://a0.muscache.com/im/pictures/348a55fe-4...</td>\n",
       "      <td>10019</td>\n",
       "      <td>3.0</td>\n",
       "      <td>3.0</td>\n",
       "    </tr>\n",
       "    <tr>\n",
       "      <th>2</th>\n",
       "      <td>7919400</td>\n",
       "      <td>4.976734</td>\n",
       "      <td>Apartment</td>\n",
       "      <td>Entire home/apt</td>\n",
       "      <td>{TV,\"Cable TV\",\"Wireless Internet\",\"Air condit...</td>\n",
       "      <td>5</td>\n",
       "      <td>1.0</td>\n",
       "      <td>Real Bed</td>\n",
       "      <td>moderate</td>\n",
       "      <td>True</td>\n",
       "      <td>...</td>\n",
       "      <td>40.808110</td>\n",
       "      <td>-73.943756</td>\n",
       "      <td>The Garden Oasis</td>\n",
       "      <td>Harlem</td>\n",
       "      <td>10</td>\n",
       "      <td>92.0</td>\n",
       "      <td>https://a0.muscache.com/im/pictures/6fae5362-9...</td>\n",
       "      <td>10027</td>\n",
       "      <td>1.0</td>\n",
       "      <td>3.0</td>\n",
       "    </tr>\n",
       "    <tr>\n",
       "      <th>3</th>\n",
       "      <td>13418779</td>\n",
       "      <td>6.620073</td>\n",
       "      <td>House</td>\n",
       "      <td>Entire home/apt</td>\n",
       "      <td>{TV,\"Cable TV\",Internet,\"Wireless Internet\",Ki...</td>\n",
       "      <td>4</td>\n",
       "      <td>1.0</td>\n",
       "      <td>Real Bed</td>\n",
       "      <td>flexible</td>\n",
       "      <td>True</td>\n",
       "      <td>...</td>\n",
       "      <td>37.772004</td>\n",
       "      <td>-122.431619</td>\n",
       "      <td>Beautiful Flat in the Heart of SF!</td>\n",
       "      <td>Lower Haight</td>\n",
       "      <td>0</td>\n",
       "      <td>NaN</td>\n",
       "      <td>https://a0.muscache.com/im/pictures/72208dad-9...</td>\n",
       "      <td>94117.0</td>\n",
       "      <td>2.0</td>\n",
       "      <td>2.0</td>\n",
       "    </tr>\n",
       "    <tr>\n",
       "      <th>4</th>\n",
       "      <td>3808709</td>\n",
       "      <td>4.744932</td>\n",
       "      <td>Apartment</td>\n",
       "      <td>Entire home/apt</td>\n",
       "      <td>{TV,Internet,\"Wireless Internet\",\"Air conditio...</td>\n",
       "      <td>2</td>\n",
       "      <td>1.0</td>\n",
       "      <td>Real Bed</td>\n",
       "      <td>moderate</td>\n",
       "      <td>True</td>\n",
       "      <td>...</td>\n",
       "      <td>38.925627</td>\n",
       "      <td>-77.034596</td>\n",
       "      <td>Great studio in midtown DC</td>\n",
       "      <td>Columbia Heights</td>\n",
       "      <td>4</td>\n",
       "      <td>40.0</td>\n",
       "      <td>NaN</td>\n",
       "      <td>20009</td>\n",
       "      <td>0.0</td>\n",
       "      <td>1.0</td>\n",
       "    </tr>\n",
       "    <tr>\n",
       "      <th>...</th>\n",
       "      <td>...</td>\n",
       "      <td>...</td>\n",
       "      <td>...</td>\n",
       "      <td>...</td>\n",
       "      <td>...</td>\n",
       "      <td>...</td>\n",
       "      <td>...</td>\n",
       "      <td>...</td>\n",
       "      <td>...</td>\n",
       "      <td>...</td>\n",
       "      <td>...</td>\n",
       "      <td>...</td>\n",
       "      <td>...</td>\n",
       "      <td>...</td>\n",
       "      <td>...</td>\n",
       "      <td>...</td>\n",
       "      <td>...</td>\n",
       "      <td>...</td>\n",
       "      <td>...</td>\n",
       "      <td>...</td>\n",
       "      <td>...</td>\n",
       "    </tr>\n",
       "    <tr>\n",
       "      <th>74106</th>\n",
       "      <td>14549287</td>\n",
       "      <td>4.605170</td>\n",
       "      <td>Apartment</td>\n",
       "      <td>Private room</td>\n",
       "      <td>{}</td>\n",
       "      <td>1</td>\n",
       "      <td>1.0</td>\n",
       "      <td>Real Bed</td>\n",
       "      <td>flexible</td>\n",
       "      <td>False</td>\n",
       "      <td>...</td>\n",
       "      <td>40.709025</td>\n",
       "      <td>-73.939405</td>\n",
       "      <td>one room bushwick</td>\n",
       "      <td>Williamsburg</td>\n",
       "      <td>0</td>\n",
       "      <td>NaN</td>\n",
       "      <td>https://a0.muscache.com/im/pictures/55162426/6...</td>\n",
       "      <td>11206.0</td>\n",
       "      <td>1.0</td>\n",
       "      <td>1.0</td>\n",
       "    </tr>\n",
       "    <tr>\n",
       "      <th>74107</th>\n",
       "      <td>13281809</td>\n",
       "      <td>5.043425</td>\n",
       "      <td>Apartment</td>\n",
       "      <td>Entire home/apt</td>\n",
       "      <td>{TV,\"Cable TV\",Internet,\"Wireless Internet\",Ki...</td>\n",
       "      <td>4</td>\n",
       "      <td>2.0</td>\n",
       "      <td>Real Bed</td>\n",
       "      <td>moderate</td>\n",
       "      <td>True</td>\n",
       "      <td>...</td>\n",
       "      <td>33.871549</td>\n",
       "      <td>-118.396053</td>\n",
       "      <td>Spacious Hermosa 2 BR on PCH</td>\n",
       "      <td>Hermosa Beach</td>\n",
       "      <td>16</td>\n",
       "      <td>93.0</td>\n",
       "      <td>https://a0.muscache.com/im/pictures/2b86560b-a...</td>\n",
       "      <td>90254</td>\n",
       "      <td>2.0</td>\n",
       "      <td>4.0</td>\n",
       "    </tr>\n",
       "    <tr>\n",
       "      <th>74108</th>\n",
       "      <td>18688039</td>\n",
       "      <td>5.220356</td>\n",
       "      <td>Apartment</td>\n",
       "      <td>Entire home/apt</td>\n",
       "      <td>{TV,Internet,\"Wireless Internet\",\"Air conditio...</td>\n",
       "      <td>5</td>\n",
       "      <td>1.0</td>\n",
       "      <td>Real Bed</td>\n",
       "      <td>moderate</td>\n",
       "      <td>True</td>\n",
       "      <td>...</td>\n",
       "      <td>40.706749</td>\n",
       "      <td>-73.942377</td>\n",
       "      <td>Modern 2 Bedroom Apartment in Williamsburg</td>\n",
       "      <td>Williamsburg</td>\n",
       "      <td>43</td>\n",
       "      <td>94.0</td>\n",
       "      <td>https://a0.muscache.com/im/pictures/7fbe448c-5...</td>\n",
       "      <td>11206.0</td>\n",
       "      <td>2.0</td>\n",
       "      <td>2.0</td>\n",
       "    </tr>\n",
       "    <tr>\n",
       "      <th>74109</th>\n",
       "      <td>17045948</td>\n",
       "      <td>5.273000</td>\n",
       "      <td>Apartment</td>\n",
       "      <td>Entire home/apt</td>\n",
       "      <td>{TV,\"Wireless Internet\",\"Air conditioning\",Kit...</td>\n",
       "      <td>2</td>\n",
       "      <td>1.0</td>\n",
       "      <td>Real Bed</td>\n",
       "      <td>strict</td>\n",
       "      <td>True</td>\n",
       "      <td>...</td>\n",
       "      <td>40.738535</td>\n",
       "      <td>-74.000157</td>\n",
       "      <td>Designer's Apartment in HEART of NYC</td>\n",
       "      <td>West Village</td>\n",
       "      <td>0</td>\n",
       "      <td>NaN</td>\n",
       "      <td>https://a0.muscache.com/im/pictures/b3971b63-0...</td>\n",
       "      <td>10011</td>\n",
       "      <td>0.0</td>\n",
       "      <td>2.0</td>\n",
       "    </tr>\n",
       "    <tr>\n",
       "      <th>74110</th>\n",
       "      <td>3534845</td>\n",
       "      <td>4.852030</td>\n",
       "      <td>Boat</td>\n",
       "      <td>Entire home/apt</td>\n",
       "      <td>{TV,Internet,\"Wireless Internet\",Kitchen,\"Free...</td>\n",
       "      <td>4</td>\n",
       "      <td>1.0</td>\n",
       "      <td>Real Bed</td>\n",
       "      <td>moderate</td>\n",
       "      <td>False</td>\n",
       "      <td>...</td>\n",
       "      <td>33.761096</td>\n",
       "      <td>-118.192409</td>\n",
       "      <td>Cozy Boat at Shoreline Village</td>\n",
       "      <td>Long Beach</td>\n",
       "      <td>205</td>\n",
       "      <td>96.0</td>\n",
       "      <td>https://a0.muscache.com/im/pictures/22968537/d...</td>\n",
       "      <td>90802</td>\n",
       "      <td>1.0</td>\n",
       "      <td>2.0</td>\n",
       "    </tr>\n",
       "  </tbody>\n",
       "</table>\n",
       "<p>74111 rows × 29 columns</p>\n",
       "</div>"
      ],
      "text/plain": [
       "             id  log_price property_type        room_type  \\\n",
       "0       6901257   5.010635     Apartment  Entire home/apt   \n",
       "1       6304928   5.129899     Apartment  Entire home/apt   \n",
       "2       7919400   4.976734     Apartment  Entire home/apt   \n",
       "3      13418779   6.620073         House  Entire home/apt   \n",
       "4       3808709   4.744932     Apartment  Entire home/apt   \n",
       "...         ...        ...           ...              ...   \n",
       "74106  14549287   4.605170     Apartment     Private room   \n",
       "74107  13281809   5.043425     Apartment  Entire home/apt   \n",
       "74108  18688039   5.220356     Apartment  Entire home/apt   \n",
       "74109  17045948   5.273000     Apartment  Entire home/apt   \n",
       "74110   3534845   4.852030          Boat  Entire home/apt   \n",
       "\n",
       "                                               amenities  accommodates  \\\n",
       "0      {\"Wireless Internet\",\"Air conditioning\",Kitche...             3   \n",
       "1      {\"Wireless Internet\",\"Air conditioning\",Kitche...             7   \n",
       "2      {TV,\"Cable TV\",\"Wireless Internet\",\"Air condit...             5   \n",
       "3      {TV,\"Cable TV\",Internet,\"Wireless Internet\",Ki...             4   \n",
       "4      {TV,Internet,\"Wireless Internet\",\"Air conditio...             2   \n",
       "...                                                  ...           ...   \n",
       "74106                                                 {}             1   \n",
       "74107  {TV,\"Cable TV\",Internet,\"Wireless Internet\",Ki...             4   \n",
       "74108  {TV,Internet,\"Wireless Internet\",\"Air conditio...             5   \n",
       "74109  {TV,\"Wireless Internet\",\"Air conditioning\",Kit...             2   \n",
       "74110  {TV,Internet,\"Wireless Internet\",Kitchen,\"Free...             4   \n",
       "\n",
       "       bathrooms  bed_type cancellation_policy  cleaning_fee  ...   latitude  \\\n",
       "0            1.0  Real Bed              strict          True  ...  40.696524   \n",
       "1            1.0  Real Bed              strict          True  ...  40.766115   \n",
       "2            1.0  Real Bed            moderate          True  ...  40.808110   \n",
       "3            1.0  Real Bed            flexible          True  ...  37.772004   \n",
       "4            1.0  Real Bed            moderate          True  ...  38.925627   \n",
       "...          ...       ...                 ...           ...  ...        ...   \n",
       "74106        1.0  Real Bed            flexible         False  ...  40.709025   \n",
       "74107        2.0  Real Bed            moderate          True  ...  33.871549   \n",
       "74108        1.0  Real Bed            moderate          True  ...  40.706749   \n",
       "74109        1.0  Real Bed              strict          True  ...  40.738535   \n",
       "74110        1.0  Real Bed            moderate         False  ...  33.761096   \n",
       "\n",
       "        longitude                                        name  \\\n",
       "0      -73.991617              Beautiful brownstone 1-bedroom   \n",
       "1      -73.989040    Superb 3BR Apt Located Near Times Square   \n",
       "2      -73.943756                            The Garden Oasis   \n",
       "3     -122.431619          Beautiful Flat in the Heart of SF!   \n",
       "4      -77.034596                  Great studio in midtown DC   \n",
       "...           ...                                         ...   \n",
       "74106  -73.939405                           one room bushwick   \n",
       "74107 -118.396053                Spacious Hermosa 2 BR on PCH   \n",
       "74108  -73.942377  Modern 2 Bedroom Apartment in Williamsburg   \n",
       "74109  -74.000157        Designer's Apartment in HEART of NYC   \n",
       "74110 -118.192409              Cozy Boat at Shoreline Village   \n",
       "\n",
       "          neighbourhood number_of_reviews review_scores_rating  \\\n",
       "0      Brooklyn Heights                 2                100.0   \n",
       "1        Hell's Kitchen                 6                 93.0   \n",
       "2                Harlem                10                 92.0   \n",
       "3          Lower Haight                 0                  NaN   \n",
       "4      Columbia Heights                 4                 40.0   \n",
       "...                 ...               ...                  ...   \n",
       "74106      Williamsburg                 0                  NaN   \n",
       "74107     Hermosa Beach                16                 93.0   \n",
       "74108      Williamsburg                43                 94.0   \n",
       "74109      West Village                 0                  NaN   \n",
       "74110        Long Beach               205                 96.0   \n",
       "\n",
       "                                           thumbnail_url  zipcode bedrooms  \\\n",
       "0      https://a0.muscache.com/im/pictures/6d7cbbf7-c...    11201      1.0   \n",
       "1      https://a0.muscache.com/im/pictures/348a55fe-4...    10019      3.0   \n",
       "2      https://a0.muscache.com/im/pictures/6fae5362-9...    10027      1.0   \n",
       "3      https://a0.muscache.com/im/pictures/72208dad-9...  94117.0      2.0   \n",
       "4                                                    NaN    20009      0.0   \n",
       "...                                                  ...      ...      ...   \n",
       "74106  https://a0.muscache.com/im/pictures/55162426/6...  11206.0      1.0   \n",
       "74107  https://a0.muscache.com/im/pictures/2b86560b-a...    90254      2.0   \n",
       "74108  https://a0.muscache.com/im/pictures/7fbe448c-5...  11206.0      2.0   \n",
       "74109  https://a0.muscache.com/im/pictures/b3971b63-0...    10011      0.0   \n",
       "74110  https://a0.muscache.com/im/pictures/22968537/d...    90802      1.0   \n",
       "\n",
       "       beds  \n",
       "0       1.0  \n",
       "1       3.0  \n",
       "2       3.0  \n",
       "3       2.0  \n",
       "4       1.0  \n",
       "...     ...  \n",
       "74106   1.0  \n",
       "74107   4.0  \n",
       "74108   2.0  \n",
       "74109   2.0  \n",
       "74110   2.0  \n",
       "\n",
       "[74111 rows x 29 columns]"
      ]
     },
     "execution_count": 2,
     "metadata": {},
     "output_type": "execute_result"
    }
   ],
   "source": [
    "data = pd.read_csv(\"../../data/airbnbprediction.csv\")\n",
    "data"
   ]
  },
  {
   "cell_type": "code",
   "execution_count": 3,
   "metadata": {},
   "outputs": [
    {
     "data": {
      "text/plain": [
       "(74111, 29)"
      ]
     },
     "execution_count": 3,
     "metadata": {},
     "output_type": "execute_result"
    }
   ],
   "source": [
    "data.shape"
   ]
  },
  {
   "cell_type": "code",
   "execution_count": 4,
   "metadata": {},
   "outputs": [
    {
     "data": {
      "text/plain": [
       "array([8, 1, 3, 8, 6, 5, 0, 6, 0, 2, 3, 5, 4, 2, 6, 5, 9, 5, 5, 0])"
      ]
     },
     "execution_count": 4,
     "metadata": {},
     "output_type": "execute_result"
    }
   ],
   "source": [
    "tab = np.random.randint(0,10,20)\n",
    "tab"
   ]
  },
  {
   "cell_type": "code",
   "execution_count": 5,
   "metadata": {},
   "outputs": [
    {
     "data": {
      "text/plain": [
       "<Axes: xlabel='log_price', ylabel='Count'>"
      ]
     },
     "execution_count": 5,
     "metadata": {},
     "output_type": "execute_result"
    },
    {
     "data": {
      "image/png": "[encoded data removed]",
      "text/plain": [
       "<Figure size 640x480 with 1 Axes>"
      ]
     },
     "metadata": {},
     "output_type": "display_data"
    }
   ],
   "source": [
    "sns.histplot(data['log_price'], kde=True, bins=30) "
   ]
  },
  {
   "cell_type": "code",
   "execution_count": 6,
   "metadata": {},
   "outputs": [
    {
     "data": {
      "text/plain": [
       "(233, 29)"
      ]
     },
     "execution_count": 6,
     "metadata": {},
     "output_type": "execute_result"
    }
   ],
   "source": [
    "data[data['log_price'] < 3].shape"
   ]
  },
  {
   "cell_type": "code",
   "execution_count": 7,
   "metadata": {},
   "outputs": [
    {
     "data": {
      "text/plain": [
       "(459, 29)"
      ]
     },
     "execution_count": 7,
     "metadata": {},
     "output_type": "execute_result"
    }
   ],
   "source": [
    "data[data['log_price'] > 7].shape"
   ]
  },
  {
   "cell_type": "code",
   "execution_count": 8,
   "metadata": {},
   "outputs": [
    {
     "data": {
      "text/plain": [
       "(74111, 29)"
      ]
     },
     "execution_count": 8,
     "metadata": {},
     "output_type": "execute_result"
    }
   ],
   "source": [
    "data.shape"
   ]
  },
  {
   "cell_type": "code",
   "execution_count": 9,
   "metadata": {},
   "outputs": [],
   "source": [
    "data = data[data['log_price'] > 3]\n",
    "data = data[data['log_price'] < 7]"
   ]
  },
  {
   "cell_type": "code",
   "execution_count": 10,
   "metadata": {},
   "outputs": [
    {
     "data": {
      "text/plain": [
       "(73419, 29)"
      ]
     },
     "execution_count": 10,
     "metadata": {},
     "output_type": "execute_result"
    }
   ],
   "source": [
    "data.shape"
   ]
  },
  {
   "cell_type": "code",
   "execution_count": 11,
   "metadata": {},
   "outputs": [
    {
     "data": {
      "text/plain": [
       "<Axes: xlabel='log_price', ylabel='Count'>"
      ]
     },
     "execution_count": 11,
     "metadata": {},
     "output_type": "execute_result"
    },
    {
     "data": {
      "image/png": "[encoded data removed]",
      "text/plain": [
       "<Figure size 640x480 with 1 Axes>"
      ]
     },
     "metadata": {},
     "output_type": "display_data"
    }
   ],
   "source": [
    "sns.histplot(data['log_price'], kde=True, bins=30) "
   ]
  },
  {
   "cell_type": "code",
   "execution_count": 12,
   "metadata": {},
   "outputs": [],
   "source": [
    "\n",
    "data['price'] = data['log_price'].apply(np.exp)"
   ]
  },
  {
   "cell_type": "code",
   "execution_count": 13,
   "metadata": {},
   "outputs": [
    {
     "data": {
      "text/html": [
       "<div>\n",
       "<style scoped>\n",
       "    .dataframe tbody tr th:only-of-type {\n",
       "        vertical-align: middle;\n",
       "    }\n",
       "\n",
       "    .dataframe tbody tr th {\n",
       "        vertical-align: top;\n",
       "    }\n",
       "\n",
       "    .dataframe thead th {\n",
       "        text-align: right;\n",
       "    }\n",
       "</style>\n",
       "<table border=\"1\" class=\"dataframe\">\n",
       "  <thead>\n",
       "    <tr style=\"text-align: right;\">\n",
       "      <th></th>\n",
       "      <th>id</th>\n",
       "      <th>log_price</th>\n",
       "      <th>accommodates</th>\n",
       "      <th>bathrooms</th>\n",
       "      <th>latitude</th>\n",
       "      <th>longitude</th>\n",
       "      <th>number_of_reviews</th>\n",
       "      <th>review_scores_rating</th>\n",
       "      <th>bedrooms</th>\n",
       "      <th>beds</th>\n",
       "      <th>price</th>\n",
       "    </tr>\n",
       "  </thead>\n",
       "  <tbody>\n",
       "    <tr>\n",
       "      <th>count</th>\n",
       "      <td>7.341900e+04</td>\n",
       "      <td>73419.000000</td>\n",
       "      <td>73419.000000</td>\n",
       "      <td>73220.000000</td>\n",
       "      <td>73419.000000</td>\n",
       "      <td>73419.000000</td>\n",
       "      <td>73419.000000</td>\n",
       "      <td>57068.000000</td>\n",
       "      <td>73329.000000</td>\n",
       "      <td>73289.000000</td>\n",
       "      <td>73419.000000</td>\n",
       "    </tr>\n",
       "    <tr>\n",
       "      <th>mean</th>\n",
       "      <td>1.126803e+07</td>\n",
       "      <td>4.773068</td>\n",
       "      <td>3.130320</td>\n",
       "      <td>1.223416</td>\n",
       "      <td>38.458059</td>\n",
       "      <td>-92.320386</td>\n",
       "      <td>21.034909</td>\n",
       "      <td>94.075594</td>\n",
       "      <td>1.254633</td>\n",
       "      <td>1.694333</td>\n",
       "      <td>152.965704</td>\n",
       "    </tr>\n",
       "    <tr>\n",
       "      <th>std</th>\n",
       "      <td>6.080800e+06</td>\n",
       "      <td>0.684281</td>\n",
       "      <td>2.107154</td>\n",
       "      <td>0.547863</td>\n",
       "      <td>3.078640</td>\n",
       "      <td>21.696435</td>\n",
       "      <td>37.954634</td>\n",
       "      <td>7.819193</td>\n",
       "      <td>0.830344</td>\n",
       "      <td>1.215959</td>\n",
       "      <td>135.373994</td>\n",
       "    </tr>\n",
       "    <tr>\n",
       "      <th>min</th>\n",
       "      <td>3.440000e+02</td>\n",
       "      <td>3.044522</td>\n",
       "      <td>1.000000</td>\n",
       "      <td>0.000000</td>\n",
       "      <td>33.338905</td>\n",
       "      <td>-122.511500</td>\n",
       "      <td>0.000000</td>\n",
       "      <td>20.000000</td>\n",
       "      <td>0.000000</td>\n",
       "      <td>0.000000</td>\n",
       "      <td>21.000000</td>\n",
       "    </tr>\n",
       "    <tr>\n",
       "      <th>25%</th>\n",
       "      <td>6.264124e+06</td>\n",
       "      <td>4.317488</td>\n",
       "      <td>2.000000</td>\n",
       "      <td>1.000000</td>\n",
       "      <td>34.130044</td>\n",
       "      <td>-118.341740</td>\n",
       "      <td>1.000000</td>\n",
       "      <td>92.000000</td>\n",
       "      <td>1.000000</td>\n",
       "      <td>1.000000</td>\n",
       "      <td>75.000000</td>\n",
       "    </tr>\n",
       "    <tr>\n",
       "      <th>50%</th>\n",
       "      <td>1.225629e+07</td>\n",
       "      <td>4.700480</td>\n",
       "      <td>2.000000</td>\n",
       "      <td>1.000000</td>\n",
       "      <td>40.664275</td>\n",
       "      <td>-76.993512</td>\n",
       "      <td>6.000000</td>\n",
       "      <td>96.000000</td>\n",
       "      <td>1.000000</td>\n",
       "      <td>1.000000</td>\n",
       "      <td>110.000000</td>\n",
       "    </tr>\n",
       "    <tr>\n",
       "      <th>75%</th>\n",
       "      <td>1.640214e+07</td>\n",
       "      <td>5.192957</td>\n",
       "      <td>4.000000</td>\n",
       "      <td>1.000000</td>\n",
       "      <td>40.746457</td>\n",
       "      <td>-73.954424</td>\n",
       "      <td>24.000000</td>\n",
       "      <td>100.000000</td>\n",
       "      <td>1.000000</td>\n",
       "      <td>2.000000</td>\n",
       "      <td>180.000000</td>\n",
       "    </tr>\n",
       "    <tr>\n",
       "      <th>max</th>\n",
       "      <td>2.123090e+07</td>\n",
       "      <td>6.999422</td>\n",
       "      <td>16.000000</td>\n",
       "      <td>8.000000</td>\n",
       "      <td>42.390437</td>\n",
       "      <td>-70.985047</td>\n",
       "      <td>605.000000</td>\n",
       "      <td>100.000000</td>\n",
       "      <td>10.000000</td>\n",
       "      <td>18.000000</td>\n",
       "      <td>1096.000000</td>\n",
       "    </tr>\n",
       "  </tbody>\n",
       "</table>\n",
       "</div>"
      ],
      "text/plain": [
       "                 id     log_price  accommodates     bathrooms      latitude  \\\n",
       "count  7.341900e+04  73419.000000  73419.000000  73220.000000  73419.000000   \n",
       "mean   1.126803e+07      4.773068      3.130320      1.223416     38.458059   \n",
       "std    6.080800e+06      0.684281      2.107154      0.547863      3.078640   \n",
       "min    3.440000e+02      3.044522      1.000000      0.000000     33.338905   \n",
       "25%    6.264124e+06      4.317488      2.000000      1.000000     34.130044   \n",
       "50%    1.225629e+07      4.700480      2.000000      1.000000     40.664275   \n",
       "75%    1.640214e+07      5.192957      4.000000      1.000000     40.746457   \n",
       "max    2.123090e+07      6.999422     16.000000      8.000000     42.390437   \n",
       "\n",
       "          longitude  number_of_reviews  review_scores_rating      bedrooms  \\\n",
       "count  73419.000000       73419.000000          57068.000000  73329.000000   \n",
       "mean     -92.320386          21.034909             94.075594      1.254633   \n",
       "std       21.696435          37.954634              7.819193      0.830344   \n",
       "min     -122.511500           0.000000             20.000000      0.000000   \n",
       "25%     -118.341740           1.000000             92.000000      1.000000   \n",
       "50%      -76.993512           6.000000             96.000000      1.000000   \n",
       "75%      -73.954424          24.000000            100.000000      1.000000   \n",
       "max      -70.985047         605.000000            100.000000     10.000000   \n",
       "\n",
       "               beds         price  \n",
       "count  73289.000000  73419.000000  \n",
       "mean       1.694333    152.965704  \n",
       "std        1.215959    135.373994  \n",
       "min        0.000000     21.000000  \n",
       "25%        1.000000     75.000000  \n",
       "50%        1.000000    110.000000  \n",
       "75%        2.000000    180.000000  \n",
       "max       18.000000   1096.000000  "
      ]
     },
     "execution_count": 13,
     "metadata": {},
     "output_type": "execute_result"
    }
   ],
   "source": [
    "data.describe()"
   ]
  },
  {
   "cell_type": "code",
   "execution_count": 14,
   "metadata": {},
   "outputs": [
    {
     "data": {
      "text/plain": [
       "<Axes: >"
      ]
     },
     "execution_count": 14,
     "metadata": {},
     "output_type": "execute_result"
    },
    {
     "data": {
      "image/png": "[encoded data removed]",
      "text/plain": [
       "<Figure size 640x480 with 1 Axes>"
      ]
     },
     "metadata": {},
     "output_type": "display_data"
    }
   ],
   "source": [
    "sns.heatmap(data.isnull(), yticklabels=False, cbar=False, cmap='viridis')"
   ]
  },
  {
   "cell_type": "code",
   "execution_count": 15,
   "metadata": {},
   "outputs": [
    {
     "data": {
      "text/plain": [
       "id                            0\n",
       "log_price                     0\n",
       "property_type                 0\n",
       "room_type                     0\n",
       "amenities                     0\n",
       "accommodates                  0\n",
       "bathrooms                   199\n",
       "bed_type                      0\n",
       "cancellation_policy           0\n",
       "cleaning_fee                  0\n",
       "city                          0\n",
       "description                   0\n",
       "first_review              15503\n",
       "host_has_profile_pic        188\n",
       "host_identity_verified      188\n",
       "host_response_rate        18059\n",
       "host_since                  188\n",
       "instant_bookable              0\n",
       "last_review               15466\n",
       "latitude                      0\n",
       "longitude                     0\n",
       "name                          0\n",
       "neighbourhood              6762\n",
       "number_of_reviews             0\n",
       "review_scores_rating      16351\n",
       "thumbnail_url              8070\n",
       "zipcode                     953\n",
       "bedrooms                     90\n",
       "beds                        130\n",
       "price                         0\n",
       "dtype: int64"
      ]
     },
     "execution_count": 15,
     "metadata": {},
     "output_type": "execute_result"
    }
   ],
   "source": [
    "data.isnull().sum()"
   ]
  },
  {
   "cell_type": "code",
   "execution_count": 16,
   "metadata": {},
   "outputs": [
    {
     "data": {
      "text/plain": [
       "0        2016-06-18\n",
       "1        2017-08-05\n",
       "2        2017-04-30\n",
       "3               NaN\n",
       "4        2015-05-12\n",
       "            ...    \n",
       "74106           NaN\n",
       "74107    2016-08-15\n",
       "74108    2015-01-03\n",
       "74109           NaN\n",
       "74110    2013-09-05\n",
       "Name: first_review, Length: 73419, dtype: object"
      ]
     },
     "execution_count": 16,
     "metadata": {},
     "output_type": "execute_result"
    }
   ],
   "source": [
    "data[\"first_review\"]"
   ]
  }
 ],
 "metadata": {
  "kernelspec": {
   "display_name": "Python 3",
   "language": "python",
   "name": "python3"
  },
  "language_info": {
   "codemirror_mode": {
    "name": "ipython",
    "version": 3
   },
   "file_extension": ".py",
   "mimetype": "text/x-python",
   "name": "python",
   "nbconvert_exporter": "python",
   "pygments_lexer": "ipython3",
   "version": "3.12.5"
  }
 },
 "nbformat": 4,
 "nbformat_minor": 2
}
